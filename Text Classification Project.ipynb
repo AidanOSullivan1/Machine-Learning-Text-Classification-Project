{
 "cells": [
  {
   "cell_type": "markdown",
   "metadata": {},
   "source": [
    "# COMP47670 Assignment 2: Text Classification\n",
    "Code written by Aidan O'Sullivan"
   ]
  },
  {
   "cell_type": "markdown",
   "metadata": {},
   "source": [
    "# Task 1: Data Collection"
   ]
  },
  {
   "cell_type": "code",
   "execution_count": 398,
   "metadata": {},
   "outputs": [],
   "source": [
    "import urllib.request\n",
    "import pandas as pd\n",
    "import json\n",
    "link = \"http://mlg.ucd.ie/modules/COMP41680/assignment2/index.html\"\n",
    "response = urllib.request.urlopen(link)          # The information is retreived from the webiste corresponding to the link\n",
    "html = response.read().decode()                  # Received information read and decoded"
   ]
  },
  {
   "cell_type": "markdown",
   "metadata": {},
   "source": [
    "Relevant libraries are imported above, to faciliate the use of certain functions throughout the code. The website being scraped is http://mlg.ucd.ie/modules/COMP41680/assignment2/index.html and it containns an archive of Guardian news articles of 2020 seperated into their respectiuve months of release. Beautiful Soup is used to web scrape the the html structured articles and creates a parse tree that allows easy reference of different parts of the structure. "
   ]
  },
  {
   "cell_type": "code",
   "execution_count": 399,
   "metadata": {},
   "outputs": [],
   "source": [
    "import bs4\n",
    "parser = bs4.BeautifulSoup(html,\"html.parser\")    # Parser tree is created"
   ]
  },
  {
   "cell_type": "markdown",
   "metadata": {},
   "source": [
    "The first page that the link opens is a list of url links to each month of 2020 news stories. These can be found in the a tags of the parser tree. These a tags are appended to a list and the relevant bit of the url address is removed, which can be used later to scrape through all months of the website"
   ]
  },
  {
   "cell_type": "code",
   "execution_count": 879,
   "metadata": {},
   "outputs": [
    {
     "data": {
      "text/plain": [
       "'in'"
      ]
     },
     "execution_count": 879,
     "metadata": {},
     "output_type": "execute_result"
    },
    {
     "name": "stdout",
     "output_type": "stream",
     "text": [
      "['month-jan-', 'month-feb-', 'month-mar-', 'month-apr-', 'month-may-', 'month-jun-', 'month-jul-', 'month-aug-', 'month-sep-', 'month-oct-', 'month-nov-', 'month-dec-']\n"
     ]
    }
   ],
   "source": [
    "months = parser('a')                              # The a tags in the parser tree of the first page are stored in months\n",
    "month_a_tags = []                                 # List created to store a tag month structure for use in future url address\n",
    "for month in months:                              # Loop through all a tags in this page\n",
    "    news_months = month.get('href', 'none')       # Find the desired url information in the a_tag\n",
    "    month_a_tags.append(news_months[:-8])         # The month structure of each url is removed\n",
    "month_a_tags.pop(0)                               # Remove 1st row a tag as it contains irrelevant information\n",
    "print(month_a_tags)"
   ]
  },
  {
   "cell_type": "markdown",
   "metadata": {},
   "source": [
    "Now that the url structure is extracted for each month web scraping can begin. For each month the program will enter the first page of the month purely to discern how many pages of news are available for each month. The number of pages can be found from the h4 tags, by removing the last two digits. The count is set to 1 to prevent the program performing the number of pages check again until all pages in the month have been looped through. \n",
    "The second for loop will loop through each page in the month until until the max page has been reached and then move onto the next month. The category of each article is checked to see if they are either Politics, Film, or Sport. If any of these are detected the category, title and snippet of the article will be appended to a list. These lists are added to a dictionary under there corresponding references. This dictionary is added to a .JSON file containing all the relevant information for every article in the chosen categories."
   ]
  },
  {
   "cell_type": "code",
   "execution_count": 880,
   "metadata": {
    "scrolled": true
   },
   "outputs": [
    {
     "data": {
      "text/plain": [
       "1415944"
      ]
     },
     "execution_count": 880,
     "metadata": {},
     "output_type": "execute_result"
    }
   ],
   "source": [
    "category_list = []                        # List for all cetgeories of relevant articles\n",
    "titles = []                               # List for all titles of relevant articles\n",
    "snippet = []                              # List for all snippets of relevant articles\n",
    "dict_news = {}                            # Dictionary that will contain the above 3 lists for easy storage in JSON file\n",
    "page_nums = \"\"                            # String declared that will contain the number of pages per month\n",
    "for month_a_tag in month_a_tags:          # Loops through the list that contains all the url month information\n",
    "    count = 0                             \n",
    "    if count == 0:                                                                                  # If statement entered once per month at begining t see how many pages there are\n",
    "        month_link = 'http://mlg.ucd.ie/modules/COMP41680/assignment2/' + month_a_tag +\"001.html\"   # URL of the first page of each month\n",
    "        response = urllib.request.urlopen(month_link)                                               # Information retrieved from web page\n",
    "        html_month = response.read().decode()                                                       # Web page read and decoded\n",
    "        month_parser = bs4.BeautifulSoup(html_month,\"html.parser\")                                  # Parser tree of web page created for page #1 of each month                               \n",
    "        h4_tag = month_parser.find(\"h4\")                                                            # H4 tag contains information on max page number\n",
    "        page_index = h4_tag.get_text()                                                              # Useful text it contains is obtained\n",
    "        page_index = page_index[-2:]                                                                # Last two digits of the string are extracted as they contain max page number\n",
    "        page_nums_int = int(page_index)                                                             # converted to int to be used to iterate through all pages\n",
    "        count = 1                                                                                   # Ensures that this if statement will not be entered until the scraping of the next month's pages\n",
    "    if count == 1:\n",
    "        for page in range(1, (page_nums_int+1)):                                                    # Loops from 1 to the max page number\n",
    "            page_str = str(page)                                                                    #zfill() and url requires a type string\n",
    "            page_str = page_str.zfill(3)                                                            #Adding zeroes to the beginning to make it compatible 3 digit form as with URL structure\n",
    "            month_link = 'http://mlg.ucd.ie/modules/COMP41680/assignment2/' + month_a_tag + page_str +\".html\"    # URL for each month and each page is constructed here\n",
    "            response = urllib.request.urlopen(month_link)\n",
    "            html_month = response.read().decode()\n",
    "            month_parser = bs4.BeautifulSoup(html_month,\"html.parser\")\n",
    "            for articles in month_parser.find_all(\"div\",{\"class\":\"article\"}):                        # Loops through all articles in the page\n",
    "                p_tags_title = articles.find_all('p')[1]                                             # P tags contains the category\n",
    "                category = p_tags_title.get_text()                                                   # Useful text extracted containing the category\n",
    "                if (category == 'Category: Sport' or category == 'Category: Politics' or category =='Category: Film'):   # Checks to see if category is of chosen type\n",
    "                    category_list.append(category[10:])                                              # If category is of chosen type the category is appended to the list\n",
    "                    h5_tag = articles.find(\"h5\")                                                     #  H5 tag contains titles\n",
    "                    a_tag = h5_tag.find(\"a\")                                                         # The a tag is then extracted\n",
    "                    titles.append(a_tag.get_text())                                                  # Useful text within a tags are appended to list\n",
    "                    p_tags_snippet = articles.find_all('p')[2]                                       # The 3rd p tag of each article contains the snippet\n",
    "                    snippets.append(p_tags_snippet.get_text())                                       # Snippet appended to list\n",
    "#print(category_list)\n",
    "#print(titles)\n",
    "#print(snippets)\n",
    "x = len(titles)\n",
    "dict_news[\"categories\"] = category_list                  # Category list added to dictionary\n",
    "dict_news[\"titles\"] = titles                             # Titles list added to dictionary\n",
    "dict_news[\"snippets\"] = snippets[-x:]                    # Snippets list added to dictionary\n",
    "news_json = json.dumps(dict_news, indent=2)              # Structure converted to data string. Indent added to make it more readable\n",
    "fout = open('news_info.json',\"w\")                        # File opened at location for json data to be stored\n",
    "fout.write(news_json )                                   # JSON data written to file location\n",
    "fout.close()                                             # File closed"
   ]
  },
  {
   "cell_type": "markdown",
   "metadata": {},
   "source": [
    "The JSON file is opened and each reference form a column in a data frame for categories, snippets and titles"
   ]
  },
  {
   "cell_type": "code",
   "execution_count": 881,
   "metadata": {},
   "outputs": [],
   "source": [
    "with open('news_info.json') as f:\n",
    "  data = json.load(f)\n",
    "category_df = pd.DataFrame.from_dict(data[\"categories\"])\n",
    "titles_df = pd.DataFrame.from_dict(data[\"titles\"])\n",
    "snippets_df = pd.DataFrame.from_dict(data[\"snippets\"])\n",
    "#print(snippets_df)"
   ]
  },
  {
   "cell_type": "markdown",
   "metadata": {},
   "source": [
    "# Task 2: Binary Classification"
   ]
  },
  {
   "cell_type": "markdown",
   "metadata": {},
   "source": [
    "All data frames are joined together and the head and tail are checked manually to ensure that each row comes from the same article. As the text from titles and snippets would be mined as a whole they were concatenated to one column"
   ]
  },
  {
   "cell_type": "code",
   "execution_count": 885,
   "metadata": {
    "scrolled": true
   },
   "outputs": [
    {
     "name": "stdout",
     "output_type": "stream",
     "text": [
      "     Categories  \\\n",
      "5388   Politics   \n",
      "5389   Politics   \n",
      "5390   Politics   \n",
      "5391       Film   \n",
      "5392   Politics   \n",
      "5393   Politics   \n",
      "5394   Politics   \n",
      "5395      Sport   \n",
      "5396      Sport   \n",
      "5397   Politics   \n",
      "\n",
      "                                                                                                                                                                                                                                                News Text  \n",
      "5388                  Passports and permits: what are the biggest changes to expect after Brexit?The bells of Big Ben will chime to mark the occasion but there will be no street parties or chaos on the roads for the arrival of Brexit at 11pm, when …  \n",
      "5389      View from the EU: Britain 'taken over by gamblers, liars, clowns and their cheerleaders'Britain faces an uncertain future as it finally pulls clear of the EU’s orbit, continental commentators have predicted, its reputation for pragmatism …  \n",
      "5390           Stanley Johnson confirms application for French passport on eve of BrexitSummary: Boris Johnson’s father Stanley has confirmed that he is applying for a French passport on the eve of Britain’s Brexit transition period coming to an e …  \n",
      "5391  ‘It took its toll’: the terrible legacy of Martin Luther King’s fight with the FBISummary: As a child in 1960s east Harlem, documentary film-maker Sam Pollard was “profoundly touched” by two events. The assassination of John F Kennedy, in 19 …  \n",
      "5392                                         Tampon tax: government axes VAT on sanitary productsThe tampon tax has been abolished after the government honoured its March commitment to remove VAT on women’s sanitary products. But the campaigner wh …  \n",
      "5393                                            UK residents: how will you be impacted by Brexit?With the Brexit deal signed into law on Thursday morning, the UK’s relationship with the EU is set to change dramatically on 1 January. We’d like to h …  \n",
      "5394                                Dover eerily quiet on Brexit eve, but hauliers fear more chaosAfter a week of mayhem, the roads of Kent are eerily deserted, almost devoid of freight traffic as lorry drivers from all over the EU avoid Dover and …  \n",
      "5395                    Chess: Magnus Carlsen 'in a deep funk' after latest defeat to Daniil DubovMagnus Carlsen’s erratic form since his 30th birthday a month ago suffered another dip on Wednesday when Russia’s Daniil Dubov used his mazy tactical …  \n",
      "5396              Toby Flood leading Newcastle revival in Jonny Wilkinson mentoring roleSummary: Amid the cluster of young English fly‑halves coming to prominence this season, Toby Flood is still going strong at 35. He spends a bit less time on th …  \n",
      "5397                                Brexit: in crisis, without fanfare, UK finally ends the EU eraFour years, 27 weeks and two days after a referendum that split the country almost down the middle, the UK left the EU’s orbit on Thursday night in a …  \n"
     ]
    }
   ],
   "source": [
    "df_concat = titles_df + snippets_df                       # Titles and snippets concatenated    \n",
    "news_df =  pd.concat([category_df, df_concat], axis=1)    # The category and concatenated dataframes are joined together in two seperate columns\n",
    "news_df.columns = [\"Categories\", \"News Text\"]             # Columns are titles\n",
    "print(news_df.tail(10))                                   # Tail checked to ensure they match\n",
    "#print(df_concat.tail(5))"
   ]
  },
  {
   "cell_type": "markdown",
   "metadata": {},
   "source": [
    "Checks are carried out to ensure that there is no missing information from any article. The number of articles from each category were also checked to ensure that it was around the expected amount. The data checks were satisfactory"
   ]
  },
  {
   "cell_type": "code",
   "execution_count": 886,
   "metadata": {},
   "outputs": [
    {
     "data": {
      "text/plain": [
       "Categories    0\n",
       "News Text     0\n",
       "dtype: int64"
      ]
     },
     "execution_count": 886,
     "metadata": {},
     "output_type": "execute_result"
    },
    {
     "data": {
      "text/plain": [
       "Categories    0\n",
       "News Text     0\n",
       "dtype: int64"
      ]
     },
     "execution_count": 886,
     "metadata": {},
     "output_type": "execute_result"
    },
    {
     "data": {
      "text/plain": [
       "Categories    0\n",
       "News Text     0\n",
       "dtype: int64"
      ]
     },
     "execution_count": 886,
     "metadata": {},
     "output_type": "execute_result"
    },
    {
     "name": "stdout",
     "output_type": "stream",
     "text": [
      "Categories    1808\n",
      "News Text     1808\n",
      "dtype: int64\n",
      "Categories    1771\n",
      "News Text     1771\n",
      "dtype: int64\n",
      "Categories    1819\n",
      "News Text     1819\n",
      "dtype: int64\n"
     ]
    }
   ],
   "source": [
    "df_politics = news_df[news_df[\"Categories\"] == \"Politics\"]\n",
    "df_film = news_df[news_df[\"Categories\"] == \"Film\"]\n",
    "df_sport = news_df[news_df[\"Categories\"] == \"Sport\"]\n",
    "df_politics.isnull().sum()\n",
    "df_film.isnull().sum()\n",
    "df_sport.isnull().sum()\n",
    "print(df_politics.count())\n",
    "print(df_film.count())\n",
    "print(df_sport.count())"
   ]
  },
  {
   "cell_type": "markdown",
   "metadata": {},
   "source": [
    "Libraries from Scikit learn and natural language toolkit are imported to assist with data mining and machine learning classification tasks"
   ]
  },
  {
   "cell_type": "code",
   "execution_count": 888,
   "metadata": {},
   "outputs": [],
   "source": [
    "from sklearn.feature_extraction.text import CountVectorizer, TfidfTransformer, TfidfVectorizer\n",
    "from sklearn.model_selection import train_test_split\n",
    "from sklearn.neighbors import KNeighborsClassifier\n",
    "from sklearn.linear_model import SGDClassifier\n",
    "from sklearn.metrics import accuracy_score, precision_score, recall_score, f1_score\n",
    "from sklearn.metrics import classification_report, confusion_matrix, ConfusionMatrixDisplay\n",
    "from sklearn.model_selection import cross_val_score, RepeatedKFold\n",
    "from sklearn.model_selection import cross_val_score\n",
    "from sklearn.model_selection import GridSearchCV\n",
    "import nltk\n",
    "from nltk.stem import WordNetLemmatizer "
   ]
  },
  {
   "cell_type": "markdown",
   "metadata": {},
   "source": [
    "The function below will tokenise the text and split it up into strings of individual words. The strings are then lemmitised, producing different kind of words that exist in the combined snippet and title text. This involves the grouping together of different inflected forms of a word so they can be analysed as a single item. Lemmatization is similar to stemming but it brings context to the words. "
   ]
  },
  {
   "cell_type": "code",
   "execution_count": 889,
   "metadata": {},
   "outputs": [],
   "source": [
    "def lemma_tokenizer(text):\n",
    "    standard_tokenizer = CountVectorizer().build_tokenizer()        # Use the standard scikit-learn tokenizer first\n",
    "    tokens = standard_tokenizer(text)                               # All data is tokenised\n",
    "    lemmatizer = WordNetLemmatizer()                                # Then use NLTK to perform lemmatisation on each token\n",
    "    lemma_tokens = []\n",
    "    for token in tokens:\n",
    "        lemma_tokens.append(lemmatizer.lemmatize(token))            # Each token is lemmatised\n",
    "    return lemma_tokens"
   ]
  },
  {
   "cell_type": "markdown",
   "metadata": {},
   "source": [
    "This function mines the data further by converting the data to lower case so words can be grouped easier. Common stop words are removed that are unlikely to have much impact in indicating the class of the text. In the classification extra weight is given to words that occur frequency and words that occur less than 5 times are removed. Short words that are less than two digits long are removed. It was decided that some words that were two digits in length were important for classification e.g F1 for sport. \n",
    "A simple classfication is carrried out first, using a 3 nearest neighbor classifier. A cross validation score of 10 is used to estimate the accuracy by evaluating using 10 different subsets of the data for each train and test. \n",
    "The optimum parameters for classifying were then found using GridSearchCV. Every integer k value between 1 and 30 was tried as the number of nearest neighbour to decide what was optimum. The accuracy was graphed for each k value to allow for visual inspection.\n",
    "Finally, a 3 nearest neighbor classifier was used to predict the model and it was graphed using a confusion matrix to inspect the distribution of positives and negatives for each classification."
   ]
  },
  {
   "cell_type": "code",
   "execution_count": 904,
   "metadata": {},
   "outputs": [],
   "source": [
    "def KNN_classifier(data, target, labels):                                   #Function inputs the data, target and labels for two classes\n",
    "    global y\n",
    "    map(str.lower, data)                                                    # All data is set to lowercase\n",
    "    vectorizer = TfidfVectorizer(stop_words=\"english\", tokenizer=lemma_tokenizer, min_df = 5)     # The vectoriser is created to mine the data\n",
    "    X = vectorizer.fit_transform(data)                                      # The vectoriser is applied to the data\n",
    "    terms = vectorizer.get_feature_names()                                   \n",
    "    terms = [ word for word in terms if len(word) > 2 ]                     # Words shorter than 2 are removed\n",
    "    #print(terms)\n",
    "    #print(target)\n",
    "    model = KNeighborsClassifier(n_neighbors=3)                            # 3 nearest neighbor model created\n",
    "    acc =  cross_val_score(model, X, target, cv=10, scoring=\"accuracy\")    # Model applied to the data with class validation score of 10\n",
    "    print(acc)                                                             # Print all 10 accuracy score for each subset\n",
    "    print(\"KNN: Mean cross-validation accuracy = %.2f\" % acc.mean())       # Find the mean of the scores\n",
    "    \n",
    "    #Calculate using GridSearchCV\n",
    "    k_range = range(1,31)                                                  # K from 0-30\n",
    "    knn = KNeighborsClassifier()                                           # K nearest neighbor classifier model created\n",
    "    param_grid = dict(n_neighbors=k_range)                                 # Tried with each value of k\n",
    "    grid = GridSearchCV(knn, param_grid, cv=10, scoring='accuracy', return_train_score=False)   # Creates knn for each option to find the optimum model\n",
    "    grid.fit(X, target)                                                    # Train model to the data using the target\n",
    "    grid_mean_scores = grid.cv_results_['mean_test_score']                 # Finds to accuracy score for each model\n",
    "    #print(grid_mean_scores)\n",
    "    plt.plot(k_range, grid_mean_scores)                                    # Plots the accuracy for each value of k\n",
    "    plt.xlabel('Value of K for KNN')                                       # Plots k on the x-axis\n",
    "    plt.ylabel('Cross-Validated Accuracy')                                 # Plots accuracy in y-axis\n",
    "    \n",
    "    # calculate the confusion matrix\n",
    "    data_train, data_test, target_train, target_test = train_test_split(X, target, test_size=0.25)  # No cross validation so the model is split into test and train\n",
    "    model = KNeighborsClassifier(n_neighbors=3)                             # 3 nearest neighbor model used\n",
    "    model.fit(data_train, target_train)                                     # Model fir to train data\n",
    "    predicted = model.predict(data_test)                                    # Model tried on the test data\n",
    "    acc = accuracy_score(target_test, predicted)                            # Compared with the target to obtain accuracy score\n",
    "    print(\"KNN single accuracy for the confusion matrix = %.2f\" % acc)      # Accuracy score printed\n",
    "    cm = confusion_matrix(target_test, predicted)                           # Confusion matrix generated\n",
    "    # display it graphically\n",
    "    cmd = ConfusionMatrixDisplay(cm, display_labels=labels)                 # Corresponding labels added\n",
    "    cmd.plot();                                                             # Plotted"
   ]
  },
  {
   "cell_type": "markdown",
   "metadata": {},
   "source": [
    "# Sport and Politics\n",
    "The cross validation score is a good means of estimating the accuracy as it uses many different different versions of the train and test data to give a repersentitive accuracy when it is averaged. 94 % accuracy (I am aware parameters and graphs will change when run again, current ones were used for the sake of analysis) is a satisfactory level of prediction as it will predict the class most times. This is due to extensive text mining and preprocessing of the text. GridSearchCV shows that the accuracy of the KNN will improve as k is increased before plateauing before k = 30. \n",
    "The confusion matrix shows the number of positive guesses and wrong guesses for both classes. A similiar number of wrong and right guesses are present for both classes."
   ]
  },
  {
   "cell_type": "code",
   "execution_count": 905,
   "metadata": {},
   "outputs": [
    {
     "name": "stderr",
     "output_type": "stream",
     "text": [
      "C:\\Users\\bantr\\anaconda3\\lib\\site-packages\\sklearn\\feature_extraction\\text.py:383: UserWarning: Your stop_words may be inconsistent with your preprocessing. Tokenizing the stop words generated tokens ['ha', 'le', 'u', 'wa'] not in stop_words.\n",
      "  warnings.warn('Your stop_words may be inconsistent with '\n"
     ]
    },
    {
     "name": "stdout",
     "output_type": "stream",
     "text": [
      "[0.9476584  0.9338843  0.93939394 0.92286501 0.96143251 0.9476584\n",
      " 0.96969697 0.95027624 0.93093923 0.93922652]\n",
      "KNN: Mean cross-validation accuracy = 0.94\n",
      "KNN single accuracy for the confusion matrix = 0.94\n"
     ]
    },
    {
     "data": {
      "image/png": "[encoded data removed]",
      "text/plain": [
       "<Figure size 432x288 with 1 Axes>"
      ]
     },
     "metadata": {
      "needs_background": "light"
     },
     "output_type": "display_data"
    },
    {
     "data": {
      "image/png": "[encoded data removed]",
      "text/plain": [
       "<Figure size 432x288 with 2 Axes>"
      ]
     },
     "metadata": {
      "needs_background": "light"
     },
     "output_type": "display_data"
    }
   ],
   "source": [
    "sport_target = df_sport[\"Categories\"].astype(str).tolist()            # Sports category label targets are converted to lists as strings\n",
    "sport_data = df_sport[\"News Text\"].astype(str).tolist()               # Sports test data is converted to lists as strings\n",
    "politics_target = df_politics[\"Categories\"].astype(str).tolist()      # Politics category label targets are converted to lists as strings\n",
    "politics_data = df_politics[\"News Text\"].astype(str).tolist()         # Politics test data is converted to lists as strings\n",
    "sport_politics_data = sport_data + politics_data                      # Data is joined as 1 list\n",
    "sport_politics_target = sport_target + politics_target                # Target is joined as 1 list\n",
    "#print(sport_politics_target)\n",
    "labels = [\"Politics\", \"Sport\"]                                        # Labels for confusion matrix\n",
    "KNN_classifier(sport_politics_data, sport_politics_target, labels)    # Data, targets and labels are passed to the classifier function"
   ]
  },
  {
   "cell_type": "markdown",
   "metadata": {},
   "source": [
    "# Sport and Film\n",
    "The average accuracy decreases for these datasets down to an average of 91%. This may be due to one of the data sets being harder to classify, maybe because it has less common keywords or words overlapping with another class that are quite dominant in the other data set. From checking the confusion matrix the model seems to perform worse on Film, with 19 less positives than for sport. Sport also has a considerable amount of false positives. I suspect the similarity between both datasets has reduced the accuracy, particularly as you might find many film that are about sport, which would confuse the predictions slightly, compared with sports and politics which rarely overlap. The GridSearchCV again shows an increase in accuracy as k increases, rising rapidly until 10 before falling to a very slow rise. "
   ]
  },
  {
   "cell_type": "code",
   "execution_count": 900,
   "metadata": {},
   "outputs": [
    {
     "name": "stderr",
     "output_type": "stream",
     "text": [
      "C:\\Users\\bantr\\anaconda3\\lib\\site-packages\\sklearn\\feature_extraction\\text.py:383: UserWarning: Your stop_words may be inconsistent with your preprocessing. Tokenizing the stop words generated tokens ['ha', 'le', 'u', 'wa'] not in stop_words.\n",
      "  warnings.warn('Your stop_words may be inconsistent with '\n"
     ]
    },
    {
     "name": "stdout",
     "output_type": "stream",
     "text": [
      "[0.89972145 0.90529248 0.88579387 0.90529248 0.92200557 0.93593315\n",
      " 0.9275766  0.90250696 0.90529248 0.87465181]\n",
      "KNN: Mean cross-validation accuracy = 0.91\n",
      "KNN single accuracy for the confusion matrix = 0.91\n"
     ]
    },
    {
     "data": {
      "image/png": "[encoded data removed]",
      "text/plain": [
       "<Figure size 432x288 with 1 Axes>"
      ]
     },
     "metadata": {
      "needs_background": "light"
     },
     "output_type": "display_data"
    },
    {
     "data": {
      "image/png": "[encoded data removed]",
      "text/plain": [
       "<Figure size 432x288 with 2 Axes>"
      ]
     },
     "metadata": {
      "needs_background": "light"
     },
     "output_type": "display_data"
    }
   ],
   "source": [
    "sport_target = df_sport[\"Categories\"].astype(str).tolist()\n",
    "sport_data = df_sport[\"News Text\"].astype(str).tolist()\n",
    "film_target = df_film[\"Categories\"].astype(str).tolist()\n",
    "film_data = df_film[\"News Text\"].astype(str).tolist()\n",
    "sport_film_data = sport_data + film_data\n",
    "sport_film_target = sport_target + film_target\n",
    "#print(sport_film_target)\n",
    "labels = [\"Film\", \"Sport\"]\n",
    "KNN_classifier(sport_film_data, sport_film_target, labels)  "
   ]
  },
  {
   "cell_type": "markdown",
   "metadata": {},
   "source": [
    "# Film and Politics\n",
    "The accuracy is improved again for this dataset compared with sport and film at 94%. Film and politics are observed from the confusion matrix to be predicted with close to the same accuracy. GridSearchCV improves the accuracy again with an increasing k, before plateauing before 30."
   ]
  },
  {
   "cell_type": "code",
   "execution_count": 901,
   "metadata": {},
   "outputs": [
    {
     "name": "stderr",
     "output_type": "stream",
     "text": [
      "C:\\Users\\bantr\\anaconda3\\lib\\site-packages\\sklearn\\feature_extraction\\text.py:383: UserWarning: Your stop_words may be inconsistent with your preprocessing. Tokenizing the stop words generated tokens ['ha', 'le', 'u', 'wa'] not in stop_words.\n",
      "  warnings.warn('Your stop_words may be inconsistent with '\n"
     ]
    },
    {
     "name": "stdout",
     "output_type": "stream",
     "text": [
      "[0.93854749 0.93296089 0.9301676  0.93575419 0.9301676  0.9301676\n",
      " 0.94134078 0.95530726 0.94134078 0.92156863]\n",
      "KNN: Mean cross-validation accuracy = 0.94\n",
      "KNN single accuracy for the confusion matrix = 0.94\n"
     ]
    },
    {
     "data": {
      "image/png": "[encoded data removed]",
      "text/plain": [
       "<Figure size 432x288 with 1 Axes>"
      ]
     },
     "metadata": {
      "needs_background": "light"
     },
     "output_type": "display_data"
    },
    {
     "data": {
      "image/png": "[encoded data removed]",
      "text/plain": [
       "<Figure size 432x288 with 2 Axes>"
      ]
     },
     "metadata": {
      "needs_background": "light"
     },
     "output_type": "display_data"
    }
   ],
   "source": [
    "politics_target = df_politics[\"Categories\"].astype(str).tolist()\n",
    "sport_data = df_politics[\"News Text\"].astype(str).tolist()\n",
    "film_target = df_film[\"Categories\"].astype(str).tolist()\n",
    "film_data = df_film[\"News Text\"].astype(str).tolist()\n",
    "politics_film_data = politics_data + film_data\n",
    "politics_film_target = politics_target + film_target\n",
    "#print(sport_film_target)\n",
    "labels = [\"Film\", \"Politics\"]\n",
    "KNN_classifier(politics_film_data, politics_film_target, labels)"
   ]
  },
  {
   "cell_type": "markdown",
   "metadata": {},
   "source": [
    "# Task 3-  Multi-Class Text Classification\n",
    "Multiclass classification of all 3 news story categories was carried out using random forest. This method works by constructing a multitude of decision trees at training time and outputting the class that is the mode of the classes. The data was collected togehter as one target and dataset. in the cell below"
   ]
  },
  {
   "cell_type": "code",
   "execution_count": 872,
   "metadata": {},
   "outputs": [],
   "source": [
    "sport_target = df_sport[\"Categories\"].astype(str).tolist()\n",
    "sport_data = df_sport[\"News Text\"].astype(str).tolist()\n",
    "film_target = df_film[\"Categories\"].astype(str).tolist()\n",
    "film_data = df_film[\"News Text\"].astype(str).tolist()\n",
    "politics_target = df_politics[\"Categories\"].astype(str).tolist()\n",
    "politics_data = df_politics[\"News Text\"].astype(str).tolist()\n",
    "multiclass_data = sport_data + film_data + politics_data\n",
    "multiclass_target = sport_target + film_target + politics_target\n",
    "#print(multiclass_target)"
   ]
  },
  {
   "cell_type": "markdown",
   "metadata": {},
   "source": [
    "Similiar preprocessing steps are carried out as before to tokenise, lemmatize and remove infrequent and short words, while weighting frequent words. The train (80%) and test (20%) data is split. First a simple Random forest model is used to check the baseline accuracy, attempts will be made to improve it. An accuracy score of 93.8% was obtained which is already quite high for 40 estimator trees. "
   ]
  },
  {
   "cell_type": "code",
   "execution_count": 906,
   "metadata": {},
   "outputs": [
    {
     "data": {
      "text/plain": [
       "<map at 0x2ab92e87e20>"
      ]
     },
     "execution_count": 906,
     "metadata": {},
     "output_type": "execute_result"
    },
    {
     "name": "stderr",
     "output_type": "stream",
     "text": [
      "C:\\Users\\bantr\\anaconda3\\lib\\site-packages\\sklearn\\feature_extraction\\text.py:383: UserWarning: Your stop_words may be inconsistent with your preprocessing. Tokenizing the stop words generated tokens ['ha', 'le', 'u', 'wa'] not in stop_words.\n",
      "  warnings.warn('Your stop_words may be inconsistent with '\n"
     ]
    },
    {
     "data": {
      "text/plain": [
       "RandomForestClassifier(n_estimators=40)"
      ]
     },
     "execution_count": 906,
     "metadata": {},
     "output_type": "execute_result"
    },
    {
     "data": {
      "text/plain": [
       "0.9481481481481482"
      ]
     },
     "execution_count": 906,
     "metadata": {},
     "output_type": "execute_result"
    }
   ],
   "source": [
    "from sklearn.ensemble import RandomForestClassifier                                       # Random Forest library is imported\n",
    "map(str.lower, multiclass_data)                                                           # Text set to lowercase\n",
    "vectorizer = TfidfVectorizer(stop_words=\"english\", tokenizer=lemma_tokenizer, min_df = 5) # could use GridsearchCV to find the optimum model\n",
    "X = vectorizer.fit_transform(multiclass_data)                           # Vectoriser applied to the data\n",
    "terms = vectorizer.get_feature_names()                                 \n",
    "terms = [ word for word in terms if len(word) > 2 ]                     # Words shorter than 2 are removed\n",
    "#print(terms)\n",
    "data_train, data_test, target_train, target_test = train_test_split(X, multiclass_target, test_size=0.2)    # Test and train data split\n",
    "model = RandomForestClassifier(n_estimators=40)                         # Random forest model created using 40 estimator trees\n",
    "model.fit(data_train,target_train)                                      # Trained using the train data\n",
    "model.score(data_test, target_test)                                     # Accuracy score is found"
   ]
  },
  {
   "cell_type": "markdown",
   "metadata": {},
   "source": [
    "For the predicted data set a confusion matrix is obtained. Politics is considerably the most succesfully predicted class and sport performs the worse. "
   ]
  },
  {
   "cell_type": "code",
   "execution_count": 907,
   "metadata": {},
   "outputs": [
    {
     "data": {
      "image/png": "[encoded data removed]",
      "text/plain": [
       "<Figure size 432x288 with 2 Axes>"
      ]
     },
     "metadata": {
      "needs_background": "light"
     },
     "output_type": "display_data"
    }
   ],
   "source": [
    "predicted = model.predict(data_test)\n",
    "cm = confusion_matrix(target_test, predicted)\n",
    "    # display it graphically\n",
    "cmd = ConfusionMatrixDisplay(cm, display_labels=[\"Film\", \"Politics\", \"Sport\"])  \n",
    "cmd.plot();\n",
    "#cm = confusion_matrix(target_test, predicted, display_labels=[\"Film\", \"Politics\", \"Sport\"])\n",
    "#cm"
   ]
  },
  {
   "cell_type": "markdown",
   "metadata": {},
   "source": [
    "GridSearchCV is agin used to obtain the optimum parameters. A range of each paramter is used and a tree will be built for each option. Cross validation is also applied in order to average the accuracy and give a true repersentation. The best parameters are acquired and will be subsequentially used to predict. The Bootstrap Aggregation algorithm for creating multiple different models from a single training dataset. The max_depth of a tree in Random Forest is defined as the longest path between the root node and the leaf node. Max features is the maximum number of features Random Forest is allowed to try in individual tree. N estimators is the number of trees that the model will build"
   ]
  },
  {
   "cell_type": "code",
   "execution_count": 831,
   "metadata": {},
   "outputs": [
    {
     "name": "stdout",
     "output_type": "stream",
     "text": [
      "Fitting 3 folds for each of 288 candidates, totalling 864 fits\n"
     ]
    },
    {
     "name": "stderr",
     "output_type": "stream",
     "text": [
      "[Parallel(n_jobs=4)]: Using backend LokyBackend with 4 concurrent workers.\n",
      "[Parallel(n_jobs=4)]: Done  33 tasks      | elapsed:   15.6s\n",
      "[Parallel(n_jobs=4)]: Done 154 tasks      | elapsed:  1.4min\n",
      "[Parallel(n_jobs=4)]: Done 357 tasks      | elapsed:  3.3min\n",
      "[Parallel(n_jobs=4)]: Done 640 tasks      | elapsed:  5.9min\n",
      "[Parallel(n_jobs=4)]: Done 864 out of 864 | elapsed:  7.9min finished\n"
     ]
    },
    {
     "data": {
      "text/plain": [
       "GridSearchCV(cv=3, estimator=RandomForestClassifier(), n_jobs=4,\n",
       "             param_grid={'bootstrap': [True], 'max_depth': [80, 90, 100, 110],\n",
       "                         'max_features': [2, 3], 'min_samples_leaf': [3, 4, 5],\n",
       "                         'min_samples_split': [8, 10, 12],\n",
       "                         'n_estimators': [100, 200, 300, 1000]},\n",
       "             verbose=2)"
      ]
     },
     "execution_count": 831,
     "metadata": {},
     "output_type": "execute_result"
    },
    {
     "data": {
      "text/plain": [
       "{'bootstrap': True,\n",
       " 'max_depth': 100,\n",
       " 'max_features': 3,\n",
       " 'min_samples_leaf': 3,\n",
       " 'min_samples_split': 10,\n",
       " 'n_estimators': 1000}"
      ]
     },
     "execution_count": 831,
     "metadata": {},
     "output_type": "execute_result"
    }
   ],
   "source": [
    "param_grid = {                                # A range of different possible parameters will be explored by GridSearchCV\n",
    "    'bootstrap': [True],\n",
    "    'max_depth': [80, 90, 100, 110],\n",
    "    'max_features': [2, 3],\n",
    "    'min_samples_leaf': [3, 4, 5],\n",
    "    'min_samples_split': [8, 10, 12],\n",
    "    'n_estimators': [100, 200, 300, 1000]\n",
    "}\n",
    "rfc=RandomForestClassifier()\n",
    "CV_rfc = GridSearchCV(estimator=rfc, param_grid=param_grid, cv = 3, n_jobs = 4, verbose = 2) #add n_jobs = 4 to speed it up\n",
    "CV_rfc.fit(data_train, target_train)\n",
    "CV_rfc.best_params_"
   ]
  },
  {
   "cell_type": "markdown",
   "metadata": {},
   "source": [
    "The best parameters are found, interestingly 1000 estimator trees are recomended which is far higher than what I intially used. An accuracy of 95.2% is found, which is only around 1% improvement in accuracy, though this is quite significant in machine learning. A confusion matrix is created and again politics performs the best and sport the worse. The number of correct guesses for each class has improved slightly as well. "
   ]
  },
  {
   "cell_type": "code",
   "execution_count": 911,
   "metadata": {},
   "outputs": [
    {
     "name": "stdout",
     "output_type": "stream",
     "text": [
      "Fitting 3 folds for each of 288 candidates, totalling 864 fits\n"
     ]
    },
    {
     "name": "stderr",
     "output_type": "stream",
     "text": [
      "[Parallel(n_jobs=4)]: Using backend LokyBackend with 4 concurrent workers.\n",
      "[Parallel(n_jobs=4)]: Done  33 tasks      | elapsed:   12.7s\n",
      "[Parallel(n_jobs=4)]: Done 154 tasks      | elapsed:   54.1s\n",
      "[Parallel(n_jobs=4)]: Done 357 tasks      | elapsed:  2.1min\n",
      "[Parallel(n_jobs=4)]: Done 640 tasks      | elapsed:  3.7min\n",
      "[Parallel(n_jobs=4)]: Done 864 out of 864 | elapsed:  5.1min finished\n"
     ]
    },
    {
     "data": {
      "image/png": "[encoded data removed]",
      "text/plain": [
       "<Figure size 432x288 with 2 Axes>"
      ]
     },
     "metadata": {
      "needs_background": "light"
     },
     "output_type": "display_data"
    }
   ],
   "source": [
    "optimised_model = CV_rfc.fit(data_train, target_train)                           # Model train on train data\n",
    "predicted=optimised_model.predict(data_test)                                     # Trained model used on test data\n",
    "cm = confusion_matrix(target_test, predicted)                                    # Confusion matrix obtained\n",
    "cmd = ConfusionMatrixDisplay(cm, display_labels=[\"Film\", \"Politics\", \"Sport\"])   # Displayed graphically and labelled\n",
    "cmd.plot();                                                                      # Plotted"
   ]
  },
  {
   "cell_type": "code",
   "execution_count": 910,
   "metadata": {},
   "outputs": [
    {
     "data": {
      "text/plain": [
       "0.9574074074074074"
      ]
     },
     "execution_count": 910,
     "metadata": {},
     "output_type": "execute_result"
    }
   ],
   "source": [
    "optimised_model.score(data_test, target_test)  # Accuracy score found"
   ]
  }
 ],
 "metadata": {
  "kernelspec": {
   "display_name": "Python 3",
   "language": "python",
   "name": "python3"
  },
  "language_info": {
   "codemirror_mode": {
    "name": "ipython",
    "version": 3
   },
   "file_extension": ".py",
   "mimetype": "text/x-python",
   "name": "python",
   "nbconvert_exporter": "python",
   "pygments_lexer": "ipython3",
   "version": "3.8.5"
  }
 },
 "nbformat": 4,
 "nbformat_minor": 4
}
